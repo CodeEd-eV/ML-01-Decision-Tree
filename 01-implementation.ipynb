{
 "cells": [
  {
   "cell_type": "markdown",
   "metadata": {},
   "source": [
    "# Implementing Decision Trees  "
   ]
  },
  {
   "cell_type": "code",
   "execution_count": 1,
   "metadata": {},
   "outputs": [
    {
     "data": {
      "text/html": [
       "<div>\n",
       "<style scoped>\n",
       "    .dataframe tbody tr th:only-of-type {\n",
       "        vertical-align: middle;\n",
       "    }\n",
       "\n",
       "    .dataframe tbody tr th {\n",
       "        vertical-align: top;\n",
       "    }\n",
       "\n",
       "    .dataframe thead th {\n",
       "        text-align: right;\n",
       "    }\n",
       "</style>\n",
       "<table border=\"1\" class=\"dataframe\">\n",
       "  <thead>\n",
       "    <tr style=\"text-align: right;\">\n",
       "      <th></th>\n",
       "      <th>sepal-length</th>\n",
       "      <th>sepal-width</th>\n",
       "      <th>petal-length</th>\n",
       "      <th>petal-width</th>\n",
       "      <th>class</th>\n",
       "    </tr>\n",
       "  </thead>\n",
       "  <tbody>\n",
       "    <tr>\n",
       "      <th>0</th>\n",
       "      <td>5.1</td>\n",
       "      <td>3.5</td>\n",
       "      <td>1.4</td>\n",
       "      <td>0.2</td>\n",
       "      <td>Iris-setosa</td>\n",
       "    </tr>\n",
       "    <tr>\n",
       "      <th>1</th>\n",
       "      <td>4.9</td>\n",
       "      <td>3.0</td>\n",
       "      <td>1.4</td>\n",
       "      <td>0.2</td>\n",
       "      <td>Iris-setosa</td>\n",
       "    </tr>\n",
       "    <tr>\n",
       "      <th>2</th>\n",
       "      <td>4.7</td>\n",
       "      <td>3.2</td>\n",
       "      <td>1.3</td>\n",
       "      <td>0.2</td>\n",
       "      <td>Iris-setosa</td>\n",
       "    </tr>\n",
       "    <tr>\n",
       "      <th>3</th>\n",
       "      <td>4.6</td>\n",
       "      <td>3.1</td>\n",
       "      <td>1.5</td>\n",
       "      <td>0.2</td>\n",
       "      <td>Iris-setosa</td>\n",
       "    </tr>\n",
       "    <tr>\n",
       "      <th>4</th>\n",
       "      <td>5.0</td>\n",
       "      <td>3.6</td>\n",
       "      <td>1.4</td>\n",
       "      <td>0.2</td>\n",
       "      <td>Iris-setosa</td>\n",
       "    </tr>\n",
       "  </tbody>\n",
       "</table>\n",
       "</div>"
      ],
      "text/plain": [
       "   sepal-length  sepal-width  petal-length  petal-width        class\n",
       "0           5.1          3.5           1.4          0.2  Iris-setosa\n",
       "1           4.9          3.0           1.4          0.2  Iris-setosa\n",
       "2           4.7          3.2           1.3          0.2  Iris-setosa\n",
       "3           4.6          3.1           1.5          0.2  Iris-setosa\n",
       "4           5.0          3.6           1.4          0.2  Iris-setosa"
      ]
     },
     "execution_count": 1,
     "metadata": {},
     "output_type": "execute_result"
    }
   ],
   "source": [
    "import tools.extract as ex\n",
    "import numpy as np\n",
    "\n",
    "iris_data = ex.load_file(\"data/iris/data.csv\")\n",
    "iris_data[:5]"
   ]
  },
  {
   "cell_type": "markdown",
   "metadata": {},
   "source": [
    "## Splitting Criterion\n",
    "\n",
    "1. Misclassification Rate\n",
    "    - $i_E (t) = 1 -  \\max_c p(y=c| t)$\n",
    "    \n",
    "    \n",
    "2. Entropy\n",
    "    - $i_H (t) = - \\sum_{c  \\in C} \\pi_{c} \\log \\pi_{c} $\n",
    "    \n",
    "\n",
    "3. Gini Index\n",
    "    - $i_G (t) = \\sum_{c  \\in C} \\pi_{c} (1 - \\pi_{c}) = 1 - \\sum_{c \\in C} \\pi_c^2$\n",
    "\n",
    "    "
   ]
  },
  {
   "cell_type": "code",
   "execution_count": 21,
   "metadata": {},
   "outputs": [
    {
     "data": {
      "text/plain": [
       "array([0.4, 0.6])"
      ]
     },
     "execution_count": 21,
     "metadata": {},
     "output_type": "execute_result"
    }
   ],
   "source": [
    "def get_frequencies(labels):\n",
    "    from collections import Counter\n",
    "\n",
    "    cnt = Counter(labels)\n",
    "    frequencies = np.array(list(cnt.values()))\n",
    "    \n",
    "    normalizer = np.sum(frequencies)\n",
    "    frequencies = frequencies / normalizer\n",
    "    \n",
    "    return frequencies\n",
    "\n",
    "labels = [\"a\",\"a\",\"i\",\"i\",\"i\"]\n",
    "frequencies = get_frequencies(labels)\n",
    "frequencies"
   ]
  },
  {
   "cell_type": "code",
   "execution_count": 30,
   "metadata": {},
   "outputs": [
    {
     "name": "stdout",
     "output_type": "stream",
     "text": [
      "i_E = 0.4\n",
      "i_H = 0.9709505944546686\n",
      "i_G = 0.48\n",
      "i_G = 0.48\n"
     ]
    }
   ],
   "source": [
    "\n",
    "def get_misclass(frequencies):\n",
    "    return 1 - max(frequencies)/sum(frequencies)\n",
    "\n",
    "def get_entropy(frequencies):\n",
    "    return -1 * ( frequencies.T @ np.log2(frequencies) )\n",
    "\n",
    "def get_gini(frequencies):\n",
    "    return 1 - frequencies.T @ frequencies\n",
    "\n",
    "def get_impurity(freq, criterion=\"gini\"):\n",
    "    measure_impurity = {\n",
    "        \"gini\":     get_gini(freq),\n",
    "        \"entropy\":  get_entropy(freq),\n",
    "        \"misclass\": get_misclass(freq)\n",
    "    }\n",
    "    return measure_impurity[criterion]\n",
    "\n",
    "\n",
    "print( f\"i_E = {get_misclass(frequencies)}\")\n",
    "print( f\"i_H = {get_entropy(frequencies)}\")\n",
    "print( f\"i_G = {get_gini(frequencies)}\")\n",
    "print( f\"i_G = {get_impurity(frequencies, 'gini')}\")\n",
    "    \n",
    "#def get_impurity()"
   ]
  },
  {
   "cell_type": "markdown",
   "metadata": {},
   "source": [
    "### Let's compare these criteria for binary classification!"
   ]
  },
  {
   "cell_type": "code",
   "execution_count": 31,
   "metadata": {},
   "outputs": [
    {
     "name": "stderr",
     "output_type": "stream",
     "text": [
      "/home/frankzl/.envs/env36-ml/.venv/lib/python3.6/site-packages/ipykernel_launcher.py:6: RuntimeWarning: divide by zero encountered in log2\n",
      "  \n"
     ]
    },
    {
     "data": {
      "image/png": "[encoded data removed]",
      "text/plain": [
       "<Figure size 432x288 with 1 Axes>"
      ]
     },
     "metadata": {
      "needs_background": "light"
     },
     "output_type": "display_data"
    }
   ],
   "source": [
    "import matplotlib.pyplot as plt \n",
    "\n",
    "crit_p     = np.arange(0,1,0.01)\n",
    "\n",
    "vector_p     = crit_p.reshape((-1, 1))\n",
    "vector_not_p = 1 - vector_p\n",
    "\n",
    "frequencies = np.hstack((vector_p, vector_not_p))\n",
    "\n",
    "crit_E = np.apply_along_axis(get_misclass, 1, frequencies)\n",
    "crit_H = np.apply_along_axis(get_entropy, 1, frequencies)\n",
    "crit_G = np.apply_along_axis(get_gini, 1, frequencies)\n",
    "\n",
    "plt.plot(crit_p, crit_E,'g-')\n",
    "plt.plot(crit_p, crit_G,'r-')\n",
    "plt.plot(crit_p, crit_H,'b-')\n",
    "plt.show()"
   ]
  },
  {
   "cell_type": "markdown",
   "metadata": {},
   "source": [
    "### Let's see how this works for Multiclass Classification (3-classes)"
   ]
  },
  {
   "cell_type": "code",
   "execution_count": 7,
   "metadata": {},
   "outputs": [
    {
     "data": {
      "text/plain": [
       "Text(0.5, 0, 'p2')"
      ]
     },
     "execution_count": 7,
     "metadata": {},
     "output_type": "execute_result"
    },
    {
     "data": {
      "image/png": "[encoded data removed]",
      "text/plain": [
       "<Figure size 432x288 with 1 Axes>"
      ]
     },
     "metadata": {
      "needs_background": "light"
     },
     "output_type": "display_data"
    }
   ],
   "source": [
    "import matplotlib.pyplot as plt\n",
    "import mpl_toolkits.mplot3d as Axes3D\n",
    "\n",
    "prob = []\n",
    "for p0 in np.arange(0, 1, 0.01):\n",
    "    for p1 in np.arange(0, 1 - p0, 0.01):\n",
    "        prob.append( [p0, p1, 1-p0-p1] )\n",
    "\n",
    "prob = np.array(prob)\n",
    "\n",
    "fig = plt.figure()\n",
    "ax  = fig.add_subplot(111,projection=\"3d\")\n",
    "\n",
    "ax.scatter( prob[:,1], prob[:,2], prob[:,0] )\n",
    "\n",
    "ax.invert_yaxis()\n",
    "\n",
    "ax.set_xlabel('p0')\n",
    "ax.set_ylabel('p1')\n",
    "ax.set_zlabel('p2')"
   ]
  },
  {
   "cell_type": "code",
   "execution_count": 8,
   "metadata": {},
   "outputs": [],
   "source": [
    "def plot_sideview(p1=0):\n",
    "    snapshot = prob [prob[:,1] == p1]\n",
    "    plt.ylim([0,1])\n",
    "    plt.xlim([0,1])\n",
    "    plt.xlabel(\"p0\")\n",
    "    plt.ylabel(\"p2\")\n",
    "    plt.title(f\"Possible probability combinations given p1 = {p1}\")\n",
    "    plt.plot(snapshot[:,0], snapshot[:,2])\n",
    "    plt.show()"
   ]
  },
  {
   "cell_type": "code",
   "execution_count": 9,
   "metadata": {},
   "outputs": [
    {
     "data": {
      "application/vnd.jupyter.widget-view+json": {
       "model_id": "c2b49745becf4928b6e482aa39851587",
       "version_major": 2,
       "version_minor": 0
      },
      "text/plain": [
       "interactive(children=(IntSlider(value=1, description='step'), Output()), _dom_classes=('widget-interact',))"
      ]
     },
     "metadata": {},
     "output_type": "display_data"
    }
   ],
   "source": [
    "import ipywidgets\n",
    "from ipywidgets import interactive\n",
    "\n",
    "iplot = interactive(lambda step: plot_sideview(step/100), \n",
    "                    step=ipywidgets.IntSlider(\n",
    "                        min=0, max=100, step=1, value=1, continuous_update=True\n",
    "                    ))\n",
    "iplot"
   ]
  },
  {
   "cell_type": "code",
   "execution_count": 147,
   "metadata": {},
   "outputs": [],
   "source": [
    "class DtNode:\n",
    "    def __init__(self, X, y, depth=None, criterion=\"gini\"):\n",
    "        self.split_val = None\n",
    "        self.depth = depth\n",
    "        self.X = X\n",
    "        self.y = y\n",
    "        self.criterion = \"gini\"\n",
    "        \n",
    "        frequencies = get_frequencies(self.y)\n",
    "        self.node_impurity = get_impurity(frequencies, criterion=self.criterion)\n",
    "    \n",
    "    def get_improvements(self, feature):\n",
    "        improvements = []\n",
    "        \n",
    "        possible_split_values = list( set( self.X[feature] ))\n",
    "        \n",
    "        for value in sorted(possible_split_values):\n",
    "            \n",
    "            true_labels  = self.y[ self.X[feature] <= value ]\n",
    "            false_labels = self.y[ self.X[feature] > value ]\n",
    "            \n",
    "            if len(true_labels) != 0 and len(false_labels) != 0:\n",
    "                true_freq  = get_frequencies(true_labels)\n",
    "                false_freq = get_frequencies(false_labels)\n",
    "            \n",
    "                total = len(self.X)\n",
    "            \n",
    "                expected_impurity  = get_misclass(true_freq)  * (len(true_labels)/total)\n",
    "                expected_impurity += get_misclass(false_freq) * (len(false_labels)/total)\n",
    "            \n",
    "                improvements.append((value, self.node_impurity - expected_impurity))\n",
    "            else:\n",
    "                improvements.append(( value, 0))\n",
    "            \n",
    "        return improvements\n",
    "        \n",
    "    def fit( self):\n",
    "        best_improvement = None\n",
    "        best_feature = \"\"\n",
    "        \n",
    "        for feature in self.X.columns:\n",
    "            imp = max( self.get_improvements(feature), key=lambda x: x[1])\n",
    "            \n",
    "            if best_improvement is None or best_improvement[1] < imp[1]:\n",
    "                best_improvement = imp\n",
    "                best_feature = feature\n",
    "        \n",
    "        if best_improvement[1] <= 0:\n",
    "            return\n",
    "        \n",
    "        self.split_improvement = best_improvement[1]\n",
    "        \n",
    "        self.split(feature, best_improvement[0])\n",
    "        \n",
    "    def split(self, feature, value):\n",
    "        \n",
    "        if self.depth == 0:\n",
    "            return\n",
    "        \n",
    "        self.split_value = value\n",
    "        self.split_feature = feature\n",
    "        \n",
    "        true_idx  = self.X[feature] <= value\n",
    "        false_idx = true_idx != True\n",
    "        \n",
    "        true_X  = self.X[ true_idx ]\n",
    "        true_y  = self.y[ true_idx ]\n",
    "        false_X = self.X[ false_idx ]\n",
    "        false_y = self.y[ false_idx ]\n",
    "        \n",
    "        if(self.depth is None):\n",
    "            self.true_node  = DtNode(true_X,  true_y,  None)\n",
    "            self.false_node = DtNode(false_X, false_y, None )\n",
    "        else:\n",
    "            self.true_node  = DtNode(true_X,  true_y,  self.depth - 1)\n",
    "            self.false_node = DtNode(false_X, false_y, self.depth - 1)\n",
    "        "
   ]
  },
  {
   "cell_type": "code",
   "execution_count": 148,
   "metadata": {},
   "outputs": [
    {
     "data": {
      "text/plain": [
       "(5.7, 0.30666666666666675)"
      ]
     },
     "execution_count": 148,
     "metadata": {},
     "output_type": "execute_result"
    }
   ],
   "source": [
    "node = DtNode(iris_data.iloc[:,:4], iris_data['class'], 1)\n",
    "max(node.get_improvements('sepal-length'), key=lambda x: x[1])"
   ]
  },
  {
   "cell_type": "code",
   "execution_count": 149,
   "metadata": {},
   "outputs": [],
   "source": [
    "#imps = (node.get_improvements('sepal-length'))\n",
    "node.fit()"
   ]
  },
  {
   "cell_type": "code",
   "execution_count": 146,
   "metadata": {},
   "outputs": [
    {
     "name": "stdout",
     "output_type": "stream",
     "text": [
      "petal-width\n",
      "1.9\n"
     ]
    }
   ],
   "source": [
    "print(node.split_feature)\n",
    "print(node.split_value)\n",
    "print(node.split_value)"
   ]
  },
  {
   "cell_type": "code",
   "execution_count": 77,
   "metadata": {},
   "outputs": [
    {
     "data": {
      "text/plain": [
       "Index(['sepal-length', 'sepal-width', 'petal-length', 'petal-width', 'class'], dtype='object')"
      ]
     },
     "execution_count": 77,
     "metadata": {},
     "output_type": "execute_result"
    }
   ],
   "source": [
    "node.X.columns"
   ]
  },
  {
   "cell_type": "code",
   "execution_count": 28,
   "metadata": {},
   "outputs": [
    {
     "data": {
      "text/plain": [
       "0       True\n",
       "1      False\n",
       "2      False\n",
       "3      False\n",
       "4       True\n",
       "5       True\n",
       "6      False\n",
       "7       True\n",
       "8      False\n",
       "9      False\n",
       "10      True\n",
       "11     False\n",
       "12     False\n",
       "13     False\n",
       "14      True\n",
       "15      True\n",
       "16      True\n",
       "17      True\n",
       "18      True\n",
       "19      True\n",
       "20      True\n",
       "21      True\n",
       "22     False\n",
       "23      True\n",
       "24     False\n",
       "25      True\n",
       "26      True\n",
       "27      True\n",
       "28      True\n",
       "29     False\n",
       "       ...  \n",
       "120     True\n",
       "121     True\n",
       "122     True\n",
       "123     True\n",
       "124     True\n",
       "125     True\n",
       "126     True\n",
       "127     True\n",
       "128     True\n",
       "129     True\n",
       "130     True\n",
       "131     True\n",
       "132     True\n",
       "133     True\n",
       "134     True\n",
       "135     True\n",
       "136     True\n",
       "137     True\n",
       "138     True\n",
       "139     True\n",
       "140     True\n",
       "141     True\n",
       "142     True\n",
       "143     True\n",
       "144     True\n",
       "145     True\n",
       "146     True\n",
       "147     True\n",
       "148     True\n",
       "149     True\n",
       "Name: sepal-length, Length: 150, dtype: bool"
      ]
     },
     "execution_count": 28,
     "metadata": {},
     "output_type": "execute_result"
    }
   ],
   "source": [
    "iris_data[\"sepal-length\"] >= 5"
   ]
  },
  {
   "cell_type": "code",
   "execution_count": null,
   "metadata": {},
   "outputs": [],
   "source": []
  }
 ],
 "metadata": {
  "kernelspec": {
   "display_name": "Python 3",
   "language": "python",
   "name": "python3"
  },
  "language_info": {
   "codemirror_mode": {
    "name": "ipython",
    "version": 3
   },
   "file_extension": ".py",
   "mimetype": "text/x-python",
   "name": "python",
   "nbconvert_exporter": "python",
   "pygments_lexer": "ipython3",
   "version": "3.6.7"
  }
 },
 "nbformat": 4,
 "nbformat_minor": 2
}
